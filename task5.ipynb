{
 "cells": [
  {
   "cell_type": "code",
   "execution_count": 1,
   "metadata": {},
   "outputs": [
    {
     "name": "stdout",
     "output_type": "stream",
     "text": [
      "5 6\n",
      "######\n",
      "######\n",
      "######\n",
      "######\n",
      "######\n",
      "\n",
      "0 0\n",
      "\n"
     ]
    }
   ],
   "source": [
    "# 5_A\n",
    "while(True):\n",
    "    var=input()\n",
    "    var=var.split()\n",
    "    var=list(map(int,var))\n",
    "    H=var[0]\n",
    "    W=var[1]\n",
    "    if(H==0 and W==0):\n",
    "        print()\n",
    "        break\n",
    "    else:\n",
    "        for i in range(H):\n",
    "            for n in range(W):\n",
    "                if(n==(W-1)):\n",
    "                    print(\"#\")\n",
    "                else:\n",
    "                    print(\"#\", end='')\n",
    "        print()"
   ]
  },
  {
   "cell_type": "code",
   "execution_count": 5,
   "metadata": {},
   "outputs": [
    {
     "name": "stdout",
     "output_type": "stream",
     "text": [
      "3 4\n",
      "####\n",
      "#..#\n",
      "####\n",
      "5 6\n",
      "######\n",
      "#....#\n",
      "#....#\n",
      "#....#\n",
      "######\n",
      "3 3\n",
      "###\n",
      "#.#\n",
      "###\n",
      "0 0\n",
      "\n"
     ]
    }
   ],
   "source": [
    "# 5_B\n",
    "while(True):\n",
    "    var=input()\n",
    "    var=var.split()\n",
    "    var=list(map(int,var))\n",
    "    H=var[0]\n",
    "    W=var[1]\n",
    "    if(H==0 and W==0):\n",
    "        print()\n",
    "        break\n",
    "    else:\n",
    "        for i in range(H):\n",
    "            for n in range(W):\n",
    "                if(i==0):\n",
    "                    if(n==(W-1)):\n",
    "                        print(\"#\")\n",
    "                    else:\n",
    "                        print(\"#\", end='')\n",
    "                elif(i==H-1):\n",
    "                    if(n==(W-1)):\n",
    "                        print(\"#\")\n",
    "                    else:\n",
    "                        print(\"#\", end='')\n",
    "                else:\n",
    "                    if(n==0):\n",
    "                        print(\"#\",end='')\n",
    "                    elif(n==W-1):\n",
    "                        print(\"#\")\n",
    "                    elif(0<n<W-1):\n",
    "                        print(\".\",end='')"
   ]
  },
  {
   "cell_type": "code",
   "execution_count": 6,
   "metadata": {},
   "outputs": [
    {
     "name": "stdout",
     "output_type": "stream",
     "text": [
      "2 2\n",
      "#.\n",
      ".#\n",
      "3 3\n",
      "#.#\n",
      ".#.\n",
      "#.#\n",
      "0 0\n",
      "\n"
     ]
    }
   ],
   "source": [
    "# 5_C\n",
    "while(True):\n",
    "    var=input()\n",
    "    var=var.split()\n",
    "    var=list(map(int,var))\n",
    "    H=var[0]\n",
    "    W=var[1]\n",
    "    if(H==0 and W==0):\n",
    "        print()\n",
    "        break\n",
    "    else:\n",
    "        for i in range(H):\n",
    "            for n in range(W):\n",
    "                if(i%2==0):\n",
    "                    if(n%2==0 and n!=W-1):\n",
    "                        print(\"#\",end='')\n",
    "                    elif(n%2!=0 and n!=W-1):\n",
    "                        print(\".\",end='')\n",
    "                    elif(n%2==0 and n==W-1):\n",
    "                        print(\"#\")\n",
    "                    elif(n%2!=0 and n==W-1):\n",
    "                        print(\".\")\n",
    "                if(i%2!=0):\n",
    "                    if(n%2==0 and n!=W-1):\n",
    "                        print(\".\",end='')\n",
    "                    elif(n%2!=0 and n!=W-1):\n",
    "                        print(\"#\",end='')\n",
    "                    elif(n%2==0 and n==W-1):\n",
    "                        print(\".\")\n",
    "                    elif(n%2!=0 and n==W-1):\n",
    "                        print(\"#\")"
   ]
  },
  {
   "cell_type": "code",
   "execution_count": 7,
   "metadata": {},
   "outputs": [
    {
     "name": "stdout",
     "output_type": "stream",
     "text": [
      "30\n",
      " 3 6 9 12 13 15 18 21 23 24 27 30\n"
     ]
    }
   ],
   "source": [
    "# 5_D\n",
    "n=int(input())\n",
    "i=1\n",
    "while(i<=n):\n",
    "    x=i\n",
    "    if(int(x%3)==0):\n",
    "        print(\" \"+str(i),end='')\n",
    "    elif(int(x%10)==3):\n",
    "        print(\" \"+str(i),end='')\n",
    "    else:\n",
    "        while(True):\n",
    "            if(int(x%10)==3):\n",
    "                print(\" \"+str(i),end='')\n",
    "                break\n",
    "            else:\n",
    "                x=int(x/10)\n",
    "                if(x==0):\n",
    "                    break\n",
    "    i+=1\n",
    "print()"
   ]
  },
  {
   "cell_type": "code",
   "execution_count": null,
   "metadata": {},
   "outputs": [],
   "source": []
  }
 ],
 "metadata": {
  "kernelspec": {
   "display_name": "Python 3",
   "language": "python",
   "name": "python3"
  },
  "language_info": {
   "codemirror_mode": {
    "name": "ipython",
    "version": 3
   },
   "file_extension": ".py",
   "mimetype": "text/x-python",
   "name": "python",
   "nbconvert_exporter": "python",
   "pygments_lexer": "ipython3",
   "version": "3.7.6"
  }
 },
 "nbformat": 4,
 "nbformat_minor": 4
}
