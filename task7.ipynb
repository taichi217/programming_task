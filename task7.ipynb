{
 "cells": [
  {
   "cell_type": "code",
   "execution_count": null,
   "metadata": {},
   "outputs": [],
   "source": []
  },
  {
   "cell_type": "code",
   "execution_count": 13,
   "metadata": {},
   "outputs": [
    {
     "name": "stdout",
     "output_type": "stream",
     "text": [
      "5 9\n",
      "2\n",
      "0 0\n"
     ]
    }
   ],
   "source": [
    "# 7_B\n",
    "\n",
    "while(True):\n",
    "    count=0\n",
    "    var=input()\n",
    "    var=var.split()\n",
    "    n=int(var[0])\n",
    "    x=int(var[1])\n",
    "    if(n==0 and x==0):\n",
    "        break\n",
    "    else:\n",
    "        for i in range(1,n+1):\n",
    "            for k in range(i+1,n+1):\n",
    "                for m in range(k+1,n+1):\n",
    "                    s=0\n",
    "                    s=i+k+m\n",
    "                    if(s==x):\n",
    "                        count+=1\n",
    "        print(count)"
   ]
  },
  {
   "cell_type": "code",
   "execution_count": 67,
   "metadata": {},
   "outputs": [
    {
     "name": "stdout",
     "output_type": "stream",
     "text": [
      "1 8\n",
      "0 33 43 62 29 0 8 52\n",
      "0 33 43 62 29 0 8 52 227 \n",
      "0 33 43 62 29 0 8 52 227 \n"
     ]
    }
   ],
   "source": [
    "# 7_C\n",
    "r,c=map(int,input().split())\n",
    "table=[[0 for i in range(c+1)]for n in range(r+1)]\n",
    "for i in range(r):\n",
    "    var=list(map(int,input().split()))\n",
    "    for n in range(len(var)+1):\n",
    "        if(n==c):\n",
    "            table[i][n]=sum(var)\n",
    "        else:\n",
    "            table[i][n]=var[n]\n",
    "for i in range(r):\n",
    "    for n in range(c):\n",
    "        table[r][n]+=table[i][n]\n",
    "table[r][c]=sum(table[r])\n",
    "for row in table:\n",
    "    for col in row:\n",
    "        print(str(col)+\" \",end='')\n",
    "        \n",
    "    print()"
   ]
  },
  {
   "cell_type": "code",
   "execution_count": 69,
   "metadata": {},
   "outputs": [
    {
     "name": "stdout",
     "output_type": "stream",
     "text": [
      "3 2 3\n",
      "1 2\n",
      "0 3\n",
      "4 5\n",
      "1 2 1\n",
      "0 3 2\n",
      "1 8 5 \n",
      "0 9 6 \n",
      "4 23 14 \n"
     ]
    }
   ],
   "source": [
    "n,m,l=map(int,input().split())\n",
    "A=[[0 for j in range(m)]for k in range(n)]\n",
    "B=[[0 for j in range(l)]for k in range(m)]\n",
    "C=[[0 for j in range(l)]for k in range(n)]\n",
    "for j in range(n):\n",
    "    var=list(map(int,input().split()))\n",
    "    A[j]=var\n",
    "for j in range(m):\n",
    "    var=list(map(int,input().split()))\n",
    "    B[j]=var\n",
    "\n",
    "for j in range(n):\n",
    "    for k in range(l):\n",
    "        for t in range(m):\n",
    "            C[j][k]+=A[j][t]*B[t][k]\n",
    "\n",
    "for row in C:\n",
    "    for col in row:\n",
    "        print(str(col)+\" \",end='')\n",
    "    print()"
   ]
  },
  {
   "cell_type": "code",
   "execution_count": null,
   "metadata": {},
   "outputs": [],
   "source": []
  }
 ],
 "metadata": {
  "kernelspec": {
   "display_name": "Python 3",
   "language": "python",
   "name": "python3"
  },
  "language_info": {
   "codemirror_mode": {
    "name": "ipython",
    "version": 3
   },
   "file_extension": ".py",
   "mimetype": "text/x-python",
   "name": "python",
   "nbconvert_exporter": "python",
   "pygments_lexer": "ipython3",
   "version": "3.7.6"
  }
 },
 "nbformat": 4,
 "nbformat_minor": 4
}
